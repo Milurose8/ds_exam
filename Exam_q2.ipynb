{
 "cells": [
  {
   "cell_type": "code",
   "execution_count": 1,
   "id": "e661882a",
   "metadata": {},
   "outputs": [],
   "source": [
    "import numpy as np\n",
    "import pandas as pd\n",
    "import matplotlib.pyplot as plt"
   ]
  },
  {
   "cell_type": "code",
   "execution_count": 2,
   "id": "e4b39fda",
   "metadata": {},
   "outputs": [
    {
     "data": {
      "text/html": [
       "<div>\n",
       "<style scoped>\n",
       "    .dataframe tbody tr th:only-of-type {\n",
       "        vertical-align: middle;\n",
       "    }\n",
       "\n",
       "    .dataframe tbody tr th {\n",
       "        vertical-align: top;\n",
       "    }\n",
       "\n",
       "    .dataframe thead th {\n",
       "        text-align: right;\n",
       "    }\n",
       "</style>\n",
       "<table border=\"1\" class=\"dataframe\">\n",
       "  <thead>\n",
       "    <tr style=\"text-align: right;\">\n",
       "      <th></th>\n",
       "      <th>Hours</th>\n",
       "      <th>Scores</th>\n",
       "    </tr>\n",
       "  </thead>\n",
       "  <tbody>\n",
       "    <tr>\n",
       "      <th>0</th>\n",
       "      <td>2.5</td>\n",
       "      <td>21</td>\n",
       "    </tr>\n",
       "    <tr>\n",
       "      <th>1</th>\n",
       "      <td>5.1</td>\n",
       "      <td>47</td>\n",
       "    </tr>\n",
       "    <tr>\n",
       "      <th>2</th>\n",
       "      <td>3.2</td>\n",
       "      <td>27</td>\n",
       "    </tr>\n",
       "    <tr>\n",
       "      <th>3</th>\n",
       "      <td>8.5</td>\n",
       "      <td>75</td>\n",
       "    </tr>\n",
       "    <tr>\n",
       "      <th>4</th>\n",
       "      <td>3.5</td>\n",
       "      <td>30</td>\n",
       "    </tr>\n",
       "  </tbody>\n",
       "</table>\n",
       "</div>"
      ],
      "text/plain": [
       "   Hours  Scores\n",
       "0    2.5      21\n",
       "1    5.1      47\n",
       "2    3.2      27\n",
       "3    8.5      75\n",
       "4    3.5      30"
      ]
     },
     "execution_count": 2,
     "metadata": {},
     "output_type": "execute_result"
    }
   ],
   "source": [
    "students=pd.read_csv('student_scores.csv')\n",
    "students.head()"
   ]
  },
  {
   "cell_type": "code",
   "execution_count": 3,
   "id": "0ca97f92",
   "metadata": {},
   "outputs": [
    {
     "data": {
      "text/html": [
       "<div>\n",
       "<style scoped>\n",
       "    .dataframe tbody tr th:only-of-type {\n",
       "        vertical-align: middle;\n",
       "    }\n",
       "\n",
       "    .dataframe tbody tr th {\n",
       "        vertical-align: top;\n",
       "    }\n",
       "\n",
       "    .dataframe thead th {\n",
       "        text-align: right;\n",
       "    }\n",
       "</style>\n",
       "<table border=\"1\" class=\"dataframe\">\n",
       "  <thead>\n",
       "    <tr style=\"text-align: right;\">\n",
       "      <th></th>\n",
       "      <th>Hours</th>\n",
       "      <th>Scores</th>\n",
       "    </tr>\n",
       "  </thead>\n",
       "  <tbody>\n",
       "    <tr>\n",
       "      <th>count</th>\n",
       "      <td>25.000000</td>\n",
       "      <td>25.000000</td>\n",
       "    </tr>\n",
       "    <tr>\n",
       "      <th>mean</th>\n",
       "      <td>5.012000</td>\n",
       "      <td>51.480000</td>\n",
       "    </tr>\n",
       "    <tr>\n",
       "      <th>std</th>\n",
       "      <td>2.525094</td>\n",
       "      <td>25.286887</td>\n",
       "    </tr>\n",
       "    <tr>\n",
       "      <th>min</th>\n",
       "      <td>1.100000</td>\n",
       "      <td>17.000000</td>\n",
       "    </tr>\n",
       "    <tr>\n",
       "      <th>25%</th>\n",
       "      <td>2.700000</td>\n",
       "      <td>30.000000</td>\n",
       "    </tr>\n",
       "    <tr>\n",
       "      <th>50%</th>\n",
       "      <td>4.800000</td>\n",
       "      <td>47.000000</td>\n",
       "    </tr>\n",
       "    <tr>\n",
       "      <th>75%</th>\n",
       "      <td>7.400000</td>\n",
       "      <td>75.000000</td>\n",
       "    </tr>\n",
       "    <tr>\n",
       "      <th>max</th>\n",
       "      <td>9.200000</td>\n",
       "      <td>95.000000</td>\n",
       "    </tr>\n",
       "  </tbody>\n",
       "</table>\n",
       "</div>"
      ],
      "text/plain": [
       "           Hours     Scores\n",
       "count  25.000000  25.000000\n",
       "mean    5.012000  51.480000\n",
       "std     2.525094  25.286887\n",
       "min     1.100000  17.000000\n",
       "25%     2.700000  30.000000\n",
       "50%     4.800000  47.000000\n",
       "75%     7.400000  75.000000\n",
       "max     9.200000  95.000000"
      ]
     },
     "execution_count": 3,
     "metadata": {},
     "output_type": "execute_result"
    }
   ],
   "source": [
    "students.describe()"
   ]
  },
  {
   "cell_type": "code",
   "execution_count": 24,
   "id": "6657d459",
   "metadata": {},
   "outputs": [
    {
     "data": {
      "image/png": "[encoded data removed]",
      "text/plain": [
       "<Figure size 432x288 with 1 Axes>"
      ]
     },
     "metadata": {
      "needs_background": "light"
     },
     "output_type": "display_data"
    }
   ],
   "source": [
    "import matplotlib.pyplot as plt\n",
    "x=students.iloc[:,0]\n",
    "y=students.iloc[:,1]\n",
    "plt.scatter(x,y)\n",
    "plt.xlabel(\"no. of hours\")\n",
    "plt.ylabel(\"score\")\n",
    "plt.title(\"students score\")\n",
    "plt.show()"
   ]
  },
  {
   "cell_type": "code",
   "execution_count": 9,
   "id": "c1af781d",
   "metadata": {},
   "outputs": [
    {
     "name": "stdout",
     "output_type": "stream",
     "text": [
      "    Hours\n",
      "0     2.5\n",
      "1     5.1\n",
      "2     3.2\n",
      "3     8.5\n",
      "4     3.5\n",
      "5     1.5\n",
      "6     9.2\n",
      "7     5.5\n",
      "8     8.3\n",
      "9     2.7\n",
      "10    7.7\n",
      "11    5.9\n",
      "12    4.5\n",
      "13    3.3\n",
      "14    1.1\n",
      "15    8.9\n",
      "16    2.5\n",
      "17    1.9\n",
      "18    6.1\n",
      "19    7.4\n",
      "20    2.7\n",
      "21    4.8\n",
      "22    3.8\n",
      "23    6.9\n",
      "24    7.8\n"
     ]
    }
   ],
   "source": [
    "X=students.iloc[:,:-1]\n",
    "Y=students.iloc[:,1]\n",
    "print(X)"
   ]
  },
  {
   "cell_type": "code",
   "execution_count": 10,
   "id": "2720c8dd",
   "metadata": {},
   "outputs": [
    {
     "name": "stdout",
     "output_type": "stream",
     "text": [
      "0     21\n",
      "1     47\n",
      "2     27\n",
      "3     75\n",
      "4     30\n",
      "5     20\n",
      "6     88\n",
      "7     60\n",
      "8     81\n",
      "9     25\n",
      "10    85\n",
      "11    62\n",
      "12    41\n",
      "13    42\n",
      "14    17\n",
      "15    95\n",
      "16    30\n",
      "17    24\n",
      "18    67\n",
      "19    69\n",
      "20    30\n",
      "21    54\n",
      "22    35\n",
      "23    76\n",
      "24    86\n",
      "Name: Scores, dtype: int64\n"
     ]
    }
   ],
   "source": [
    "print(Y)"
   ]
  },
  {
   "cell_type": "code",
   "execution_count": 11,
   "id": "013afa85",
   "metadata": {},
   "outputs": [
    {
     "name": "stdout",
     "output_type": "stream",
     "text": [
      "    Hours\n",
      "16    2.5\n",
      "17    1.9\n",
      "18    6.1\n",
      "20    2.7\n",
      "8     8.3\n",
      "11    5.9\n",
      "7     5.5\n",
      "6     9.2\n",
      "10    7.7\n",
      "22    3.8\n",
      "2     3.2\n",
      "23    6.9\n",
      "3     8.5\n",
      "1     5.1\n",
      "4     3.5\n",
      "24    7.8\n",
      "19    7.4\n"
     ]
    }
   ],
   "source": [
    "from sklearn.model_selection import train_test_split\n",
    "X_train,X_test,Y_train,Y_test=train_test_split(X,Y,test_size=0.3)\n",
    "print(X_train)"
   ]
  },
  {
   "cell_type": "code",
   "execution_count": 13,
   "id": "917f0792",
   "metadata": {},
   "outputs": [
    {
     "data": {
      "text/plain": [
       "LinearRegression()"
      ]
     },
     "execution_count": 13,
     "metadata": {},
     "output_type": "execute_result"
    }
   ],
   "source": [
    "from sklearn.linear_model import LinearRegression\n",
    "regressor=LinearRegression()\n",
    "regressor.fit(X_train,Y_train)"
   ]
  },
  {
   "cell_type": "code",
   "execution_count": 14,
   "id": "bd75fc7c",
   "metadata": {},
   "outputs": [
    {
     "name": "stdout",
     "output_type": "stream",
     "text": [
      "2.253787677422814\n"
     ]
    }
   ],
   "source": [
    "print(regressor.intercept_)"
   ]
  },
  {
   "cell_type": "code",
   "execution_count": 15,
   "id": "a5ccd678",
   "metadata": {},
   "outputs": [
    {
     "name": "stdout",
     "output_type": "stream",
     "text": [
      "[9.72589177]\n"
     ]
    }
   ],
   "source": [
    "print(regressor.coef_)"
   ]
  },
  {
   "cell_type": "code",
   "execution_count": 16,
   "id": "960da99b",
   "metadata": {},
   "outputs": [
    {
     "name": "stdout",
     "output_type": "stream",
     "text": [
      "Actual Values: 54 Predicted Values: 48.93806815161342\n",
      "Number of misclassified points from test dataset 21    True\n",
      "14    True\n",
      "12    True\n",
      "0     True\n",
      "15    True\n",
      "13    True\n",
      "9     True\n",
      "5     True\n",
      "Name: Scores, dtype: bool\n",
      "Actual Values: 17 Predicted Values: 12.952268619424828\n",
      "Number of misclassified points from test dataset 21    True\n",
      "14    True\n",
      "12    True\n",
      "0     True\n",
      "15    True\n",
      "13    True\n",
      "9     True\n",
      "5     True\n",
      "Name: Scores, dtype: bool\n",
      "Actual Values: 41 Predicted Values: 46.02030062197651\n",
      "Number of misclassified points from test dataset 21    True\n",
      "14    True\n",
      "12    True\n",
      "0     True\n",
      "15    True\n",
      "13    True\n",
      "9     True\n",
      "5     True\n",
      "Name: Scores, dtype: bool\n",
      "Actual Values: 21 Predicted Values: 26.568517091063754\n",
      "Number of misclassified points from test dataset 21    True\n",
      "14    True\n",
      "12    True\n",
      "0     True\n",
      "15    True\n",
      "13    True\n",
      "9     True\n",
      "5     True\n",
      "Name: Scores, dtype: bool\n",
      "Actual Values: 95 Predicted Values: 88.81422438998456\n",
      "Number of misclassified points from test dataset 21    True\n",
      "14    True\n",
      "12    True\n",
      "0     True\n",
      "15    True\n",
      "13    True\n",
      "9     True\n",
      "5     True\n",
      "Name: Scores, dtype: bool\n",
      "Actual Values: 42 Predicted Values: 34.349230503428856\n",
      "Number of misclassified points from test dataset 21    True\n",
      "14    True\n",
      "12    True\n",
      "0     True\n",
      "15    True\n",
      "13    True\n",
      "9     True\n",
      "5     True\n",
      "Name: Scores, dtype: bool\n",
      "Actual Values: 25 Predicted Values: 28.513695444155033\n",
      "Number of misclassified points from test dataset 21    True\n",
      "14    True\n",
      "12    True\n",
      "0     True\n",
      "15    True\n",
      "13    True\n",
      "9     True\n",
      "5     True\n",
      "Name: Scores, dtype: bool\n",
      "Actual Values: 20 Predicted Values: 16.84262532560738\n",
      "Number of misclassified points from test dataset 21    True\n",
      "14    True\n",
      "12    True\n",
      "0     True\n",
      "15    True\n",
      "13    True\n",
      "9     True\n",
      "5     True\n",
      "Name: Scores, dtype: bool\n"
     ]
    }
   ],
   "source": [
    "Y_pred=regressor.predict(X_test)\n",
    "for(i,j) in zip(Y_test,Y_pred):\n",
    "    if(i != j):\n",
    "        print('Actual Values:',i,'Predicted Values:',j)\n",
    "        print(\"Number of misclassified points from test dataset\",(Y_test != Y_pred))\n",
    "              "
   ]
  },
  {
   "cell_type": "code",
   "execution_count": 17,
   "id": "820ba772",
   "metadata": {},
   "outputs": [
    {
     "name": "stdout",
     "output_type": "stream",
     "text": [
      "Mean Absolute error 5.0257620208920315\n",
      "Mean squared error 27.166531073923416\n",
      "Root Mean squared error 5.212152249687591\n"
     ]
    }
   ],
   "source": [
    "from sklearn import metrics\n",
    "print(\"Mean Absolute error\",metrics.mean_absolute_error(Y_test,Y_pred))\n",
    "print(\"Mean squared error\",metrics.mean_squared_error(Y_test,Y_pred))\n",
    "print(\"Root Mean squared error\",np.sqrt(metrics.mean_squared_error(Y_test,Y_pred)))"
   ]
  },
  {
   "cell_type": "code",
   "execution_count": 23,
   "id": "716ee57a",
   "metadata": {},
   "outputs": [
    {
     "ename": "SyntaxError",
     "evalue": "invalid syntax (2809657695.py, line 3)",
     "output_type": "error",
     "traceback": [
      "\u001b[0;36m  File \u001b[0;32m\"/tmp/ipykernel_6271/2809657695.py\"\u001b[0;36m, line \u001b[0;32m3\u001b[0m\n\u001b[0;31m    sns.pairplot[students,X_Vars=['Hour'],Y_Vars='Scores',height=5,intercept=1,kind='scatter'\u001b[0m\n\u001b[0m                                ^\u001b[0m\n\u001b[0;31mSyntaxError\u001b[0m\u001b[0;31m:\u001b[0m invalid syntax\n"
     ]
    }
   ],
   "source": [
    "import matplotlib.pyplot as plt\n",
    "import seaborn as sns\n",
    "sns.pairplot[students,X_Vars=['Hour'],Y_Vars='Scores',height=5,intercept=1,kind='scatter'\n",
    "plt.show()"
   ]
  },
  {
   "cell_type": "code",
   "execution_count": null,
   "id": "40df6c2a",
   "metadata": {},
   "outputs": [],
   "source": []
  }
 ],
 "metadata": {
  "kernelspec": {
   "display_name": "Python 3 (ipykernel)",
   "language": "python",
   "name": "python3"
  },
  "language_info": {
   "codemirror_mode": {
    "name": "ipython",
    "version": 3
   },
   "file_extension": ".py",
   "mimetype": "text/x-python",
   "name": "python",
   "nbconvert_exporter": "python",
   "pygments_lexer": "ipython3",
   "version": "3.9.7"
  }
 },
 "nbformat": 4,
 "nbformat_minor": 5
}
